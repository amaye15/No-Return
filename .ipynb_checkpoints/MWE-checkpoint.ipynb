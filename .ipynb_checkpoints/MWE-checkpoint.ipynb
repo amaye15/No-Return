{
 "cells": [
  {
   "cell_type": "code",
   "execution_count": null,
   "metadata": {},
   "outputs": [],
   "source": [
    "import numpy as np\n",
    "import matplotlib.pyplot as plt\n",
    "import os\n",
    "import imageio\n",
    "import random\n",
    "from psychopy import visual, core, event, gui, data\n",
    "import MotionClouds as MC\n",
    "import pygame\n",
    "from PIL import Image"
   ]
  },
  {
   "cell_type": "code",
   "execution_count": null,
   "metadata": {},
   "outputs": [],
   "source": [
    "exp_info = {'exp_name': \"Spot the digit!\", 'participant':'laurent'}\n",
    "cache_folder = os.path.join('/tmp','cache')\n",
    "data_folder = os.path.join('/tmp','json')\n",
    "data_folder\n",
    "%mkdir -p {data_folder} {cache_folder}\n",
    "%cd /Users/typhaine/Documents/Doc Gorilla/WhereIsMyMNIST/notebooks\n",
    "    # Change"
   ]
  },
  {
   "cell_type": "code",
   "execution_count": null,
   "metadata": {},
   "outputs": [],
   "source": [
    "import torch\n",
    "import torchvision\n",
    "import torchvision.datasets as datasets\n",
    "import matplotlib.pyplot as plt"
   ]
  },
  {
   "cell_type": "code",
   "execution_count": null,
   "metadata": {},
   "outputs": [],
   "source": [
    "transform = torchvision.transforms.Compose([torchvision.transforms.ToTensor(),\n",
    "                                            torchvision.transforms.Normalize((0.1307,), (0.3081,))])\n",
    "dataset = torch.utils.data.DataLoader(datasets.MNIST('../data', train=True, transform=transform),\n",
    "                                   batch_size=64, shuffle=True)\n",
    "\n",
    "examples = enumerate(dataset)\n",
    "batch_idx, (data, targets) = next(examples)"
   ]
  },
  {
   "cell_type": "code",
   "execution_count": null,
   "metadata": {},
   "outputs": [],
   "source": [
    "data_map = np.array(data)\n",
    "check = -0.2421296\n",
    "for a in range(len(data_map)):\n",
    "    change = data_map[a, 0, :, :]\n",
    "    for b in range(len(change)):\n",
    "        value = change[b]\n",
    "        for c in range(len(value)):\n",
    "            if value[c] <= check and (c % 2) == 0:\n",
    "                value[c] = random.random()*-1\n",
    "            elif value[c] <= check:\n",
    "                value[c] = random.random()*1"
   ]
  },
  {
   "cell_type": "code",
   "execution_count": null,
   "metadata": {},
   "outputs": [],
   "source": [
    "instructions = \"\"\"\n",
    "At each trial you see a series of textured images, report if you \n",
    "spot a specific digit by pressing the space bar.\n",
    "\n",
    "Press the space bar to begin the experiment.\n",
    "\n",
    "\"\"\"\n",
    "\n",
    "timer = core.Clock()\n",
    "timer.add(1)\n",
    "\n",
    "win = visual.Window((400,400))\n",
    "\n",
    "message = visual.TextStim(win, text= instructions)\n",
    "message.autoDraw = True  \n",
    "win.flip()\n",
    "core.wait(5.0)\n",
    "message.text = '' \n",
    "win.flip()\n",
    "core.wait(0.0)\n",
    "mov = visual.MovieStim3(win, '/Users/typhaine/Documents/Doc Gorilla/Andrew.mp4', flipVert=False, size = [400,400], loop = True)\n",
    "    # Change address\n",
    "mov.autoDraw = True\n",
    "\n",
    "while True:\n",
    "    mov.play()\n",
    "    mov.draw()\n",
    "    win.flip()\n",
    "    while timer.getTime()>1:\n",
    "        for i in range(1):\n",
    "            Image = data_map[random.randint(0, 63), 0, :, :]\n",
    "            x = visual.ImageStim(win, Image, size=0.25)\n",
    "            x.pos = (0.5, 0.5)\n",
    "            x.draw()\n",
    "            x.autoDraw = True\n",
    "            Image = data_map[random.randint(0, 63), 0, :, :]\n",
    "            x = visual.ImageStim(win, Image, size=0.25)\n",
    "            x.pos = (-0.5, -0.5)\n",
    "            x.draw()\n",
    "            x.autoDraw = True\n",
    "            Image = data_map[random.randint(0, 63), 0, :, :]\n",
    "            x = visual.ImageStim(win, Image, size=0.25)\n",
    "            x.pos = (0.5, -0.5)\n",
    "            x.draw()\n",
    "            x.autoDraw = True\n",
    "            Image = data_map[random.randint(0, 63), 0, :, :]\n",
    "            x = visual.ImageStim(win, Image, size=0.25)\n",
    "            x.pos = (-0.5, 0.5)\n",
    "            x.draw()\n",
    "            x.autoDraw = True\n",
    "            win.flip()\n",
    "            timer.reset()"
   ]
  }
 ],
 "metadata": {
  "kernelspec": {
   "display_name": "Python 3",
   "language": "python",
   "name": "python3"
  },
  "language_info": {
   "codemirror_mode": {
    "name": "ipython",
    "version": 3
   },
   "file_extension": ".py",
   "mimetype": "text/x-python",
   "name": "python",
   "nbconvert_exporter": "python",
   "pygments_lexer": "ipython3",
   "version": "3.7.3"
  }
 },
 "nbformat": 4,
 "nbformat_minor": 2
}
