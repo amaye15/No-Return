{
 "cells": [
  {
   "cell_type": "code",
   "execution_count": 2,
   "metadata": {},
   "outputs": [],
   "source": [
    "#saccades\n",
    "#three or five digits\n",
    "#transparsenecy "
   ]
  },
  {
   "cell_type": "code",
   "execution_count": 89,
   "metadata": {},
   "outputs": [
    {
     "name": "stdout",
     "output_type": "stream",
     "text": [
      "/Users/typhaine/Documents/Doc_Gorilla/WhereIsMyMNIST/notebooks\n"
     ]
    }
   ],
   "source": [
    "%cd /Users/typhaine/Documents/Doc_Gorilla/WhereIsMyMNIST/notebooks"
   ]
  },
  {
   "cell_type": "code",
   "execution_count": 90,
   "metadata": {},
   "outputs": [
    {
     "data": {
      "text/plain": [
       "{'w': 28,\n",
       " 'minibatch_size': 100,\n",
       " 'train_batch_size': 50000,\n",
       " 'test_batch_size': 10000,\n",
       " 'noise_batch_size': 1000,\n",
       " 'mean': 0.1307,\n",
       " 'std': 0.3081,\n",
       " 'what_offset_std': 15,\n",
       " 'what_offset_max': 25,\n",
       " 'N_pic': 128,\n",
       " 'offset_std': 30,\n",
       " 'offset_max': 34,\n",
       " 'noise': 0.75,\n",
       " 'contrast': 0.7,\n",
       " 'sf_0': 0.1,\n",
       " 'B_sf': 0.1,\n",
       " 'do_mask': True,\n",
       " 'N_theta': 6,\n",
       " 'N_azimuth': 24,\n",
       " 'N_eccentricity': 10,\n",
       " 'N_phase': 2,\n",
       " 'rho': 1.41,\n",
       " 'bias_deconv': True,\n",
       " 'p_dropout': 0.0,\n",
       " 'dim1': 1000,\n",
       " 'dim2': 1000,\n",
       " 'lr': 0.005,\n",
       " 'do_adam': True,\n",
       " 'bn1_bn_momentum': 0.5,\n",
       " 'bn2_bn_momentum': 0.5,\n",
       " 'momentum': 0.3,\n",
       " 'epochs': 60,\n",
       " 'num_processes': 1,\n",
       " 'no_cuda': False,\n",
       " 'log_interval': 100,\n",
       " 'verbose': 1,\n",
       " 'filename': '../data/2019-06-12',\n",
       " 'seed': 2019,\n",
       " 'N_cv': 10,\n",
       " 'do_compute': True,\n",
       " 'save_model': True}"
      ]
     },
     "execution_count": 90,
     "metadata": {},
     "output_type": "execute_result"
    }
   ],
   "source": [
    "import os\n",
    "import imageio\n",
    "import random\n",
    "import matplotlib.pyplot as plt\n",
    "from PIL import Image\n",
    "import numpy as np\n",
    "\n",
    "import torch\n",
    "import torch.nn as nn\n",
    "import torch.nn.functional as F\n",
    "import torch.optim as optim\n",
    "from torchvision import datasets, transforms\n",
    "\n",
    "import pygame\n",
    "from psychopy import visual, core, event, gui, data\n",
    "\n",
    "from what import WhatShift, WhatBackground, WhatNet, WhatTrainer, What, train, test, MNIST, MotionCloudNoise\n",
    "import MotionClouds as mc\n",
    "\n",
    "from main import init\n",
    "args = init(filename='../data/2019-06-12') # pas de drop out!\n",
    "args\n"
   ]
  },
  {
   "cell_type": "code",
   "execution_count": 91,
   "metadata": {},
   "outputs": [
    {
     "name": "stdout",
     "output_type": "stream",
     "text": [
      "torch.Size([100])\n",
      "torch.Size([100, 1, 128, 128])\n"
     ]
    }
   ],
   "source": [
    "## Unit tests\n",
    "\n",
    "#transforms.GaussianBlur(kernel_size = 1, sigma=(0.1, 2.0))\n",
    "transform=transforms.Compose([\n",
    "                               WhatShift(args,i_offset=0, j_offset=0),\n",
    "                               WhatBackground(contrast = args.contrast,\n",
    "                                              noise=0, \n",
    "                                              sf_0=args.sf_0, \n",
    "                                              B_sf=args.B_sf),\n",
    "                               transforms.ToTensor(),\n",
    "                               transforms.Normalize((args.mean,), (args.std,))\n",
    "                           ])\n",
    "\n",
    "dataset_train = MNIST('../data',\n",
    "                        train=True,\n",
    "                        download=True,\n",
    "                        transform=transform,\n",
    "                        )\n",
    "\n",
    "train_loader = torch.utils.data.DataLoader(dataset_train,\n",
    "                                         batch_size=args.minibatch_size,\n",
    "                                         shuffle=True)\n",
    "\n",
    "dataset_test = MNIST('../data',\n",
    "                        train=False,\n",
    "                        download=True,\n",
    "                        transform=transform,\n",
    "                        )\n",
    "\n",
    "test_loader = torch.utils.data.DataLoader(dataset_test,\n",
    "                                         batch_size=args.minibatch_size,\n",
    "                                         shuffle=True)\n",
    "\n",
    "data, label = next(iter(train_loader))\n",
    "#%timeit data, label = next(iter(train_loader))\n",
    "print(label.shape)\n",
    "print(data.shape)"
   ]
  },
  {
   "cell_type": "code",
   "execution_count": 92,
   "metadata": {},
   "outputs": [],
   "source": [
    "def add(data):\n",
    "    data = data.numpy().reshape(100,128,128)\n",
    "    return np.array([numbers(data) for i in range(100)]).reshape(100,128,128)"
   ]
  },
  {
   "cell_type": "code",
   "execution_count": 93,
   "metadata": {},
   "outputs": [],
   "source": [
    "def numbers(data):\n",
    "    num = [\n",
    "    random_roll(data[random.randint(0,99)],random.randint(30,50),random.randint(30,50)),\n",
    "    random_roll(data[random.randint(0,99)],random.randint(-50,-30),random.randint(-50,-30)),\n",
    "    random_roll(data[random.randint(0,99)],random.randint(-50,-30),random.randint(30,50)),\n",
    "    random_roll(data[random.randint(0,99)],random.randint(30,50),random.randint(-50,-30)),\n",
    "    random_roll(data[random.randint(0,99)],random.randint(-50,-30),random.randint(0,20)),\n",
    "    random_roll(data[random.randint(0,99)],random.randint(0,20),random.randint(-50,-20)),\n",
    "    random_roll(data[random.randint(0,99)],random.randint(30,50),random.randint(0,20)),\n",
    "    random_roll(data[random.randint(0,99)],random.randint(0,20),random.randint(30,50)),\n",
    "    random_roll(data[random.randint(0,99)],random.randint(0,20),random.randint(0,20))]\n",
    "    np.random.shuffle(num)\n",
    "    return np.max((num[0:random.randint(1,9)]),axis = 0)"
   ]
  },
  {
   "cell_type": "code",
   "execution_count": 94,
   "metadata": {},
   "outputs": [],
   "source": [
    "def RGBA(data):\n",
    "    data = np.interp(data, (data.min(), data.max()), (0, 1))\n",
    "    alpha = np.ones((data.shape[0],128,128))\n",
    "    return np.stack((data,data,data,alpha),axis=-1)"
   ]
  },
  {
   "cell_type": "code",
   "execution_count": 95,
   "metadata": {},
   "outputs": [],
   "source": [
    "def random_roll(data, x_shift, y_shift):\n",
    "    return np.roll(np.roll(data, x_shift, axis = 0), y_shift, axis = 1)"
   ]
  },
  {
   "cell_type": "code",
   "execution_count": 96,
   "metadata": {},
   "outputs": [],
   "source": [
    "def motion(data,background):\n",
    "    data = np.interp(data, (data.min(), data.max()), (0, 1))\n",
    "    background = np.reshape(RGBA(background),(128,128,4))\n",
    "    return np.swapaxes(\n",
    "        np.moveaxis(\n",
    "            np.array([[\n",
    "                np.max((\n",
    "                    np.roll(background,back,axis =(0,1)),data[D,:,:,:]),axis=0) \n",
    "                for back in range(60)] \n",
    "                for D in range(data.shape[0])]),(0,1,2,3,4),(0,1,4,3,2)),3,4)\n",
    "\n",
    "# np.swapaxes(x,3,4)\n",
    "#np.moveaxis(x,(0,1,2,3,4),(0,1,4,3,2))\n",
    "            "
   ]
  },
  {
   "cell_type": "code",
   "execution_count": 97,
   "metadata": {},
   "outputs": [],
   "source": [
    "def transparency(data):\n",
    "    [[[np.put(img[frame,3,row,:],np.where(img[frame,0,row,:]>0.9),np.linspace(0, 1, num=60)[frame]) \n",
    "       for row in range(128)] \n",
    "      for frame in range(60)] for img in data]\n",
    "\n"
   ]
  },
  {
   "cell_type": "code",
   "execution_count": 98,
   "metadata": {
    "scrolled": false
   },
   "outputs": [],
   "source": [
    "#%timeit z, env = MotionCloudNoise(sf_0=args.sf_0, B_sf=args.B_sf, alpha=.0, N_pic=128, seed=42, motion = True)\n",
    "z, env = MotionCloudNoise(sf_0=args.sf_0, B_sf=args.B_sf, alpha=.0, N_pic=128, seed=42, motion = True)\n",
    "#%timeit motion(RGBA(add(data)),np.moveaxis(z,(0,1,2),(2,1,0)))\n",
    "data = motion(RGBA(add(data)),np.moveaxis(z,(0,1,2),(2,1,0)))\n",
    "#%timeit transparency(data)\n",
    "transparency(data)\n"
   ]
  },
  {
   "cell_type": "code",
   "execution_count": 11,
   "metadata": {},
   "outputs": [],
   "source": [
    "def Random_Sac(Number_of_digits,Number_of_frames):\n",
    "    return np.random.rand(Number_of_digits,Number_of_frames,2) # maybe (:,:,2)\n",
    "saccades = Random_Sac(100,60)"
   ]
  },
  {
   "cell_type": "code",
   "execution_count": 141,
   "metadata": {},
   "outputs": [
    {
     "data": {
      "image/png": "[encoded data removed]",
      "text/plain": [
       "<PIL.Image.Image image mode=RGBA size=128x128 at 0xB3EE74E10>"
      ]
     },
     "execution_count": 141,
     "metadata": {},
     "output_type": "execute_result"
    }
   ],
   "source": [
    "test = data[0,0,:,:,:]\n",
    "test[0,:,:] =  np.interp(test[0,:,:], (test[0,:,:].min(), test[0,:,:].max()), (0, 255))\n",
    "test[1,:,:] =  np.interp(test[1,:,:], (test[1,:,:].min(), test[1,:,:].max()), (0, 255))\n",
    "test[2,:,:] =  np.interp(test[2,:,:], (test[2,:,:].min(), test[2,:,:].max()), (0, 255))\n",
    "test[3,:,:] =  np.interp(test[3,:,:], (test[3,:,:].min(), test[3,:,:].max()), (0, 255))\n",
    "test = test.astype('uint8')\n",
    "test = np.moveaxis(test,(0,1,2),(2,1,0))\n",
    "Image.fromarray(test, \"RGBA\")"
   ]
  },
  {
   "cell_type": "code",
   "execution_count": 48,
   "metadata": {},
   "outputs": [
    {
     "ename": "KeyboardInterrupt",
     "evalue": "",
     "output_type": "error",
     "traceback": [
      "\u001b[0;31m---------------------------------------------------------------------------\u001b[0m",
      "\u001b[0;31mKeyboardInterrupt\u001b[0m                         Traceback (most recent call last)",
      "\u001b[0;32m<ipython-input-48-5c12752a6768>\u001b[0m in \u001b[0;36m<module>\u001b[0;34m\u001b[0m\n\u001b[1;32m     21\u001b[0m             \u001b[0mmov\u001b[0m \u001b[0;34m=\u001b[0m \u001b[0mdata\u001b[0m\u001b[0;34m[\u001b[0m\u001b[0mi\u001b[0m\u001b[0;34m]\u001b[0m\u001b[0;34m\u001b[0m\u001b[0;34m\u001b[0m\u001b[0m\n\u001b[1;32m     22\u001b[0m             \u001b[0;32mfor\u001b[0m \u001b[0mii\u001b[0m \u001b[0;32min\u001b[0m \u001b[0mrange\u001b[0m\u001b[0;34m(\u001b[0m\u001b[0mmov\u001b[0m\u001b[0;34m.\u001b[0m\u001b[0mshape\u001b[0m\u001b[0;34m[\u001b[0m\u001b[0;36m0\u001b[0m\u001b[0;34m]\u001b[0m\u001b[0;34m)\u001b[0m\u001b[0;34m:\u001b[0m\u001b[0;34m\u001b[0m\u001b[0;34m\u001b[0m\u001b[0m\n\u001b[0;32m---> 23\u001b[0;31m                 \u001b[0mmovie_clip\u001b[0m \u001b[0;34m=\u001b[0m \u001b[0mvisual\u001b[0m\u001b[0;34m.\u001b[0m\u001b[0mImageStim\u001b[0m\u001b[0;34m(\u001b[0m\u001b[0mwin\u001b[0m\u001b[0;34m,\u001b[0m \u001b[0mnp\u001b[0m\u001b[0;34m.\u001b[0m\u001b[0mmoveaxis\u001b[0m\u001b[0;34m(\u001b[0m\u001b[0mmov\u001b[0m\u001b[0;34m[\u001b[0m\u001b[0mii\u001b[0m\u001b[0;34m]\u001b[0m\u001b[0;34m,\u001b[0m\u001b[0;34m(\u001b[0m\u001b[0;36m0\u001b[0m\u001b[0;34m,\u001b[0m\u001b[0;36m1\u001b[0m\u001b[0;34m,\u001b[0m\u001b[0;36m2\u001b[0m\u001b[0;34m)\u001b[0m\u001b[0;34m,\u001b[0m\u001b[0;34m(\u001b[0m\u001b[0;36m2\u001b[0m\u001b[0;34m,\u001b[0m\u001b[0;36m1\u001b[0m\u001b[0;34m,\u001b[0m\u001b[0;36m0\u001b[0m\u001b[0;34m)\u001b[0m\u001b[0;34m)\u001b[0m\u001b[0;34m,\u001b[0m \u001b[0mcolorSpace\u001b[0m \u001b[0;34m=\u001b[0m \u001b[0;34m\"rgb\"\u001b[0m\u001b[0;34m,\u001b[0m \u001b[0mcontrast\u001b[0m \u001b[0;34m=\u001b[0m \u001b[0;36m1\u001b[0m\u001b[0;34m,\u001b[0m \u001b[0msize\u001b[0m \u001b[0;34m=\u001b[0m \u001b[0;36m2\u001b[0m\u001b[0;34m,\u001b[0m \u001b[0mflipVert\u001b[0m\u001b[0;34m=\u001b[0m\u001b[0;32mTrue\u001b[0m\u001b[0;34m)\u001b[0m\u001b[0;34m\u001b[0m\u001b[0;34m\u001b[0m\u001b[0m\n\u001b[0m\u001b[1;32m     24\u001b[0m                 \u001b[0mmovie_clip\u001b[0m\u001b[0;34m.\u001b[0m\u001b[0mdraw\u001b[0m\u001b[0;34m(\u001b[0m\u001b[0;34m)\u001b[0m\u001b[0;34m\u001b[0m\u001b[0;34m\u001b[0m\u001b[0m\n\u001b[1;32m     25\u001b[0m                 \u001b[0mwin\u001b[0m\u001b[0;34m.\u001b[0m\u001b[0mflip\u001b[0m\u001b[0;34m(\u001b[0m\u001b[0;34m)\u001b[0m\u001b[0;34m\u001b[0m\u001b[0;34m\u001b[0m\u001b[0m\n",
      "\u001b[0;32m~/anaconda3/lib/python3.7/site-packages/psychopy/visual/image.py\u001b[0m in \u001b[0;36m__init__\u001b[0;34m(self, win, image, mask, units, pos, size, ori, color, colorSpace, contrast, opacity, depth, interpolate, flipHoriz, flipVert, texRes, name, autoLog, maskParams)\u001b[0m\n\u001b[1;32m    100\u001b[0m \u001b[0;34m\u001b[0m\u001b[0m\n\u001b[1;32m    101\u001b[0m         \u001b[0;31m# Set the image and mask-\u001b[0m\u001b[0;34m\u001b[0m\u001b[0;34m\u001b[0m\u001b[0;34m\u001b[0m\u001b[0m\n\u001b[0;32m--> 102\u001b[0;31m         \u001b[0mself\u001b[0m\u001b[0;34m.\u001b[0m\u001b[0msetImage\u001b[0m\u001b[0;34m(\u001b[0m\u001b[0mimage\u001b[0m\u001b[0;34m,\u001b[0m \u001b[0mlog\u001b[0m\u001b[0;34m=\u001b[0m\u001b[0;32mFalse\u001b[0m\u001b[0;34m)\u001b[0m\u001b[0;34m\u001b[0m\u001b[0;34m\u001b[0m\u001b[0m\n\u001b[0m\u001b[1;32m    103\u001b[0m         \u001b[0mself\u001b[0m\u001b[0;34m.\u001b[0m\u001b[0mtexRes\u001b[0m \u001b[0;34m=\u001b[0m \u001b[0mtexRes\u001b[0m  \u001b[0;31m# rebuilds the mask\u001b[0m\u001b[0;34m\u001b[0m\u001b[0;34m\u001b[0m\u001b[0m\n\u001b[1;32m    104\u001b[0m \u001b[0;34m\u001b[0m\u001b[0m\n",
      "\u001b[0;32m~/anaconda3/lib/python3.7/site-packages/psychopy/visual/image.py\u001b[0m in \u001b[0;36msetImage\u001b[0;34m(self, value, log)\u001b[0m\n\u001b[1;32m    303\u001b[0m         \u001b[0mbut\u001b[0m \u001b[0muse\u001b[0m \u001b[0mthis\u001b[0m \u001b[0mmethod\u001b[0m \u001b[0;32mif\u001b[0m \u001b[0myou\u001b[0m \u001b[0mneed\u001b[0m \u001b[0mto\u001b[0m \u001b[0msuppress\u001b[0m \u001b[0mthe\u001b[0m \u001b[0mlog\u001b[0m \u001b[0mmessage\u001b[0m\u001b[0;34m.\u001b[0m\u001b[0;34m\u001b[0m\u001b[0;34m\u001b[0m\u001b[0m\n\u001b[1;32m    304\u001b[0m         \"\"\"\n\u001b[0;32m--> 305\u001b[0;31m         \u001b[0msetAttribute\u001b[0m\u001b[0;34m(\u001b[0m\u001b[0mself\u001b[0m\u001b[0;34m,\u001b[0m \u001b[0;34m'image'\u001b[0m\u001b[0;34m,\u001b[0m \u001b[0mvalue\u001b[0m\u001b[0;34m,\u001b[0m \u001b[0mlog\u001b[0m\u001b[0;34m)\u001b[0m\u001b[0;34m\u001b[0m\u001b[0;34m\u001b[0m\u001b[0m\n\u001b[0m\u001b[1;32m    306\u001b[0m \u001b[0;34m\u001b[0m\u001b[0m\n\u001b[1;32m    307\u001b[0m     \u001b[0;34m@\u001b[0m\u001b[0mattributeSetter\u001b[0m\u001b[0;34m\u001b[0m\u001b[0;34m\u001b[0m\u001b[0m\n",
      "\u001b[0;32m~/anaconda3/lib/python3.7/site-packages/psychopy/tools/attributetools.py\u001b[0m in \u001b[0;36msetAttribute\u001b[0;34m(self, attrib, value, log, operation, stealth)\u001b[0m\n\u001b[1;32m    139\u001b[0m         \u001b[0mself\u001b[0m\u001b[0;34m.\u001b[0m\u001b[0m__dict__\u001b[0m\u001b[0;34m[\u001b[0m\u001b[0;34m'autoLog'\u001b[0m\u001b[0;34m]\u001b[0m \u001b[0;34m=\u001b[0m \u001b[0mlog\u001b[0m \u001b[0;32mor\u001b[0m \u001b[0mautoLogOrig\u001b[0m \u001b[0;32mand\u001b[0m \u001b[0mlog\u001b[0m \u001b[0;32mis\u001b[0m \u001b[0;32mNone\u001b[0m\u001b[0;34m\u001b[0m\u001b[0;34m\u001b[0m\u001b[0m\n\u001b[1;32m    140\u001b[0m         \u001b[0;31m# set attribute, calling attributeSetter if it exists\u001b[0m\u001b[0;34m\u001b[0m\u001b[0;34m\u001b[0m\u001b[0;34m\u001b[0m\u001b[0m\n\u001b[0;32m--> 141\u001b[0;31m         \u001b[0msetattr\u001b[0m\u001b[0;34m(\u001b[0m\u001b[0mself\u001b[0m\u001b[0;34m,\u001b[0m \u001b[0mattrib\u001b[0m\u001b[0;34m,\u001b[0m \u001b[0mvalue\u001b[0m\u001b[0;34m)\u001b[0m\u001b[0;34m\u001b[0m\u001b[0;34m\u001b[0m\u001b[0m\n\u001b[0m\u001b[1;32m    142\u001b[0m         \u001b[0;31m# hack: if attrib was 'autoLog', do not set it back to original value!\u001b[0m\u001b[0;34m\u001b[0m\u001b[0;34m\u001b[0m\u001b[0;34m\u001b[0m\u001b[0m\n\u001b[1;32m    143\u001b[0m         \u001b[0;32mif\u001b[0m \u001b[0mattrib\u001b[0m \u001b[0;34m!=\u001b[0m \u001b[0;34m'autoLog'\u001b[0m\u001b[0;34m:\u001b[0m\u001b[0;34m\u001b[0m\u001b[0;34m\u001b[0m\u001b[0m\n",
      "\u001b[0;32m~/anaconda3/lib/python3.7/site-packages/psychopy/tools/attributetools.py\u001b[0m in \u001b[0;36m__set__\u001b[0;34m(self, obj, value)\u001b[0m\n\u001b[1;32m     30\u001b[0m \u001b[0;34m\u001b[0m\u001b[0m\n\u001b[1;32m     31\u001b[0m     \u001b[0;32mdef\u001b[0m \u001b[0m__set__\u001b[0m\u001b[0;34m(\u001b[0m\u001b[0mself\u001b[0m\u001b[0;34m,\u001b[0m \u001b[0mobj\u001b[0m\u001b[0;34m,\u001b[0m \u001b[0mvalue\u001b[0m\u001b[0;34m)\u001b[0m\u001b[0;34m:\u001b[0m\u001b[0;34m\u001b[0m\u001b[0;34m\u001b[0m\u001b[0m\n\u001b[0;32m---> 32\u001b[0;31m         \u001b[0mnewValue\u001b[0m \u001b[0;34m=\u001b[0m \u001b[0mself\u001b[0m\u001b[0;34m.\u001b[0m\u001b[0mfunc\u001b[0m\u001b[0;34m(\u001b[0m\u001b[0mobj\u001b[0m\u001b[0;34m,\u001b[0m \u001b[0mvalue\u001b[0m\u001b[0;34m)\u001b[0m\u001b[0;34m\u001b[0m\u001b[0;34m\u001b[0m\u001b[0m\n\u001b[0m\u001b[1;32m     33\u001b[0m         \u001b[0;31m# log=None defaults to obj.autoLog:\u001b[0m\u001b[0;34m\u001b[0m\u001b[0;34m\u001b[0m\u001b[0;34m\u001b[0m\u001b[0m\n\u001b[1;32m     34\u001b[0m         logAttrib(obj, log=None, attrib=self.func.__name__,\n",
      "\u001b[0;32m~/anaconda3/lib/python3.7/site-packages/psychopy/visual/image.py\u001b[0m in \u001b[0;36mimage\u001b[0;34m(self, value)\u001b[0m\n\u001b[1;32m    290\u001b[0m                                                   \u001b[0mmaskParams\u001b[0m\u001b[0;34m=\u001b[0m\u001b[0mself\u001b[0m\u001b[0;34m.\u001b[0m\u001b[0mmaskParams\u001b[0m\u001b[0;34m,\u001b[0m\u001b[0;34m\u001b[0m\u001b[0;34m\u001b[0m\u001b[0m\n\u001b[1;32m    291\u001b[0m                                                   \u001b[0mforcePOW2\u001b[0m\u001b[0;34m=\u001b[0m\u001b[0;32mFalse\u001b[0m\u001b[0;34m,\u001b[0m\u001b[0;34m\u001b[0m\u001b[0;34m\u001b[0m\u001b[0m\n\u001b[0;32m--> 292\u001b[0;31m                                                   wrapping=False)\n\u001b[0m\u001b[1;32m    293\u001b[0m         \u001b[0;31m# if user requested size=None then update the size for new stim here\u001b[0m\u001b[0;34m\u001b[0m\u001b[0;34m\u001b[0m\u001b[0;34m\u001b[0m\u001b[0m\n\u001b[1;32m    294\u001b[0m         \u001b[0;32mif\u001b[0m \u001b[0mhasattr\u001b[0m\u001b[0;34m(\u001b[0m\u001b[0mself\u001b[0m\u001b[0;34m,\u001b[0m \u001b[0;34m'_requestedSize'\u001b[0m\u001b[0;34m)\u001b[0m \u001b[0;32mand\u001b[0m \u001b[0mself\u001b[0m\u001b[0;34m.\u001b[0m\u001b[0m_requestedSize\u001b[0m \u001b[0;32mis\u001b[0m \u001b[0;32mNone\u001b[0m\u001b[0;34m:\u001b[0m\u001b[0;34m\u001b[0m\u001b[0;34m\u001b[0m\u001b[0m\n",
      "\u001b[0;32m~/anaconda3/lib/python3.7/site-packages/psychopy/visual/basevisual.py\u001b[0m in \u001b[0;36m_createTexture\u001b[0;34m(self, tex, id, pixFormat, stim, res, maskParams, forcePOW2, dataType, wrapping)\u001b[0m\n\u001b[1;32m    674\u001b[0m             \u001b[0;31m# handle a numpy array\u001b[0m\u001b[0;34m\u001b[0m\u001b[0;34m\u001b[0m\u001b[0;34m\u001b[0m\u001b[0m\n\u001b[1;32m    675\u001b[0m             \u001b[0;31m# for now this needs to be an NxN intensity array\u001b[0m\u001b[0;34m\u001b[0m\u001b[0;34m\u001b[0m\u001b[0;34m\u001b[0m\u001b[0m\n\u001b[0;32m--> 676\u001b[0;31m             \u001b[0mintensity\u001b[0m \u001b[0;34m=\u001b[0m \u001b[0mtex\u001b[0m\u001b[0;34m.\u001b[0m\u001b[0mastype\u001b[0m\u001b[0;34m(\u001b[0m\u001b[0mnumpy\u001b[0m\u001b[0;34m.\u001b[0m\u001b[0mfloat32\u001b[0m\u001b[0;34m)\u001b[0m\u001b[0;34m\u001b[0m\u001b[0;34m\u001b[0m\u001b[0m\n\u001b[0m\u001b[1;32m    677\u001b[0m             \u001b[0;32mif\u001b[0m \u001b[0mintensity\u001b[0m\u001b[0;34m.\u001b[0m\u001b[0mmax\u001b[0m\u001b[0;34m(\u001b[0m\u001b[0;34m)\u001b[0m \u001b[0;34m>\u001b[0m \u001b[0;36m1\u001b[0m \u001b[0;32mor\u001b[0m \u001b[0mintensity\u001b[0m\u001b[0;34m.\u001b[0m\u001b[0mmin\u001b[0m\u001b[0;34m(\u001b[0m\u001b[0;34m)\u001b[0m \u001b[0;34m<\u001b[0m \u001b[0;34m-\u001b[0m\u001b[0;36m1\u001b[0m\u001b[0;34m:\u001b[0m\u001b[0;34m\u001b[0m\u001b[0;34m\u001b[0m\u001b[0m\n\u001b[1;32m    678\u001b[0m                 logging.error('numpy arrays used as textures should be in '\n",
      "\u001b[0;31mKeyboardInterrupt\u001b[0m: "
     ]
    }
   ],
   "source": [
    "instructions = \"\"\"\n",
    "At each trial you see a series of textured images, report if you \n",
    "spot a specific digit by pressing the space bar.\n",
    "\n",
    "Press the space bar to begin the experiment.\n",
    "\n",
    "\"\"\"\n",
    "\n",
    "win = visual.Window(winType = 'pyglet', size =(800,800), colorSpace = \"rgb\")\n",
    "\n",
    "message = visual.TextStim(win, text= instructions)\n",
    "message.autoDraw = True  # Automatically draw every frame\n",
    "win.flip()\n",
    "core.wait(5.0)\n",
    "message.text = ''  # Change properties of existing stim\n",
    "win.flip()\n",
    "core.wait(0.0)\n",
    "\n",
    "while True:\n",
    "    for i in range(data.shape[0]-1):\n",
    "            mov = data[i]\n",
    "            for ii in range(mov.shape[0]):\n",
    "                movie_clip = visual.ImageStim(win, np.moveaxis(mov[ii],(0,1,2),(2,1,0)), colorSpace = \"rgb\", contrast = 1, size = 2, flipVert=True)\n",
    "                movie_clip.draw()\n",
    "                win.flip()"
   ]
  },
  {
   "cell_type": "code",
   "execution_count": null,
   "metadata": {},
   "outputs": [],
   "source": []
  },
  {
   "cell_type": "code",
   "execution_count": null,
   "metadata": {},
   "outputs": [],
   "source": [
    "def show_landmarks(image, landmarks):\n",
    "    \"\"\"Show image with landmarks\"\"\"\n",
    "    plt.imshow(image)\n",
    "    plt.scatter(landmarks[:, 0], landmarks[:, 1], s=100, marker='.', c='r')\n",
    "        # s is just the siz of the marker\n",
    "        # c is just the colour\n",
    "            # Reference: https://matplotlib.org/3.3.3/api/_as_gen/matplotlib.pyplot.scatter.html\n",
    "        # landmarks[:, 0], landmarks[:, 1]\n",
    "            # Numpy/Pandas notation, means more or less\n",
    "                # Reference: https://stackoverflow.com/questions/40557910/plt-plot-meaning-of-0-and-1/40558730\n",
    "    # plt.pause(0.001)  # pause a bit so that plots are updated\n",
    "\n",
    "for key in loc_data_xy: # loc_data_xy is a dictionary so there is a key:value\n",
    "    # print(x,loc_data_xy[x])\n",
    "    plt.figure()\n",
    "    show_landmarks(io.imread(os.path.join('/Users/typhaine/Documents/Doc Gorilla/ALLSTIMULI/' + key +\".jpeg\")),\n",
    "               loc_data_xy[key])\n",
    "    # loc_data_xy[x] accesses values\n",
    "    plt.show()\n",
    "    if key == key:\n",
    "        break\n",
    "        # Sloppy, but hey it works!\n",
    "        \n",
    "# Reference for loop: https://stackoverflow.com/questions/26660654/how-do-i-print-the-key-value-pairs-of-a-dictionary-in-python/26660785"
   ]
  }
 ],
 "metadata": {
  "kernelspec": {
   "display_name": "Python 3",
   "language": "python",
   "name": "python3"
  },
  "language_info": {
   "codemirror_mode": {
    "name": "ipython",
    "version": 3
   },
   "file_extension": ".py",
   "mimetype": "text/x-python",
   "name": "python",
   "nbconvert_exporter": "python",
   "pygments_lexer": "ipython3",
   "version": "3.7.3"
  }
 },
 "nbformat": 4,
 "nbformat_minor": 2
}
