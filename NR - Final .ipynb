{
 "cells": [
  {
   "cell_type": "code",
   "execution_count": 1,
   "metadata": {},
   "outputs": [],
   "source": [
    "#saccades\n",
    "#three or five digits\n",
    "#transparsenecy "
   ]
  },
  {
   "cell_type": "code",
   "execution_count": 2,
   "metadata": {},
   "outputs": [
    {
     "name": "stdout",
     "output_type": "stream",
     "text": [
      "/Users/typhaine/Documents/Doc Gorilla/WhereIsMyMNIST/notebooks\n"
     ]
    }
   ],
   "source": [
    "%cd /Users/typhaine/Documents/Doc Gorilla/WhereIsMyMNIST/notebooks"
   ]
  },
  {
   "cell_type": "code",
   "execution_count": 3,
   "metadata": {},
   "outputs": [
    {
     "name": "stdout",
     "output_type": "stream",
     "text": [
      "pygame 2.0.1 (SDL 2.0.14, Python 3.7.3)\n",
      "Hello from the pygame community. https://www.pygame.org/contribute.html\n"
     ]
    },
    {
     "data": {
      "text/plain": [
       "{'w': 28,\n",
       " 'minibatch_size': 100,\n",
       " 'train_batch_size': 50000,\n",
       " 'test_batch_size': 10000,\n",
       " 'noise_batch_size': 1000,\n",
       " 'mean': 0.1307,\n",
       " 'std': 0.3081,\n",
       " 'what_offset_std': 15,\n",
       " 'what_offset_max': 25,\n",
       " 'N_pic': 128,\n",
       " 'offset_std': 30,\n",
       " 'offset_max': 34,\n",
       " 'noise': 0.75,\n",
       " 'contrast': 0.7,\n",
       " 'sf_0': 0.1,\n",
       " 'B_sf': 0.1,\n",
       " 'do_mask': True,\n",
       " 'N_theta': 6,\n",
       " 'N_azimuth': 24,\n",
       " 'N_eccentricity': 10,\n",
       " 'N_phase': 2,\n",
       " 'rho': 1.41,\n",
       " 'bias_deconv': True,\n",
       " 'p_dropout': 0.0,\n",
       " 'dim1': 1000,\n",
       " 'dim2': 1000,\n",
       " 'lr': 0.005,\n",
       " 'do_adam': True,\n",
       " 'bn1_bn_momentum': 0.5,\n",
       " 'bn2_bn_momentum': 0.5,\n",
       " 'momentum': 0.3,\n",
       " 'epochs': 60,\n",
       " 'num_processes': 1,\n",
       " 'no_cuda': False,\n",
       " 'log_interval': 100,\n",
       " 'verbose': 1,\n",
       " 'filename': '../data/2019-06-12',\n",
       " 'seed': 2019,\n",
       " 'N_cv': 10,\n",
       " 'do_compute': True,\n",
       " 'save_model': True}"
      ]
     },
     "execution_count": 3,
     "metadata": {},
     "output_type": "execute_result"
    }
   ],
   "source": [
    "import os\n",
    "import imageio\n",
    "import random\n",
    "import matplotlib.pyplot as plt\n",
    "from PIL import Image\n",
    "import numpy as np\n",
    "\n",
    "import torch\n",
    "import torch.nn as nn\n",
    "import torch.nn.functional as F\n",
    "import torch.optim as optim\n",
    "from torchvision import datasets, transforms\n",
    "\n",
    "import pygame\n",
    "from psychopy import visual, core, event, gui, data\n",
    "\n",
    "from what import WhatShift, WhatBackground, WhatNet, WhatTrainer, What, train, test, MNIST, MotionCloudNoise\n",
    "import MotionClouds as mc\n",
    "\n",
    "from main import init\n",
    "args = init(filename='../data/2019-06-12') # pas de drop out!\n",
    "args\n"
   ]
  },
  {
   "cell_type": "code",
   "execution_count": 4,
   "metadata": {},
   "outputs": [
    {
     "name": "stdout",
     "output_type": "stream",
     "text": [
      "torch.Size([100])\n",
      "torch.Size([100, 1, 128, 128])\n"
     ]
    }
   ],
   "source": [
    "## Unit tests\n",
    "\n",
    "#transforms.GaussianBlur(kernel_size = 1, sigma=(0.1, 2.0))\n",
    "transform=transforms.Compose([\n",
    "                               WhatShift(args,i_offset=0, j_offset=0),\n",
    "                               WhatBackground(contrast = args.contrast,\n",
    "                                              noise=0, \n",
    "                                              sf_0=args.sf_0, \n",
    "                                              B_sf=args.B_sf),\n",
    "                               transforms.ToTensor(),\n",
    "                               transforms.Normalize((args.mean,), (args.std,))\n",
    "                           ])\n",
    "\n",
    "dataset_train = MNIST('../data',\n",
    "                        train=True,\n",
    "                        download=True,\n",
    "                        transform=transform,\n",
    "                        )\n",
    "\n",
    "train_loader = torch.utils.data.DataLoader(dataset_train,\n",
    "                                         batch_size=args.minibatch_size,\n",
    "                                         shuffle=True)\n",
    "\n",
    "dataset_test = MNIST('../data',\n",
    "                        train=False,\n",
    "                        download=True,\n",
    "                        transform=transform,\n",
    "                        )\n",
    "\n",
    "test_loader = torch.utils.data.DataLoader(dataset_test,\n",
    "                                         batch_size=args.minibatch_size,\n",
    "                                         shuffle=True)\n",
    "\n",
    "data, label = next(iter(train_loader))\n",
    "#%timeit data, label = next(iter(train_loader))\n",
    "print(label.shape)\n",
    "print(data.shape)"
   ]
  },
  {
   "cell_type": "code",
   "execution_count": 5,
   "metadata": {},
   "outputs": [],
   "source": [
    "def add(data):\n",
    "    data = data.numpy().reshape(100,128,128)\n",
    "    data = np.array([[np.max((random_roll(data[random.randint(0,99)],0,0),\n",
    "                random_roll(data[random.randint(0,99)],50,50),\n",
    "                random_roll(data[random.randint(0,99)],-50,-50),\n",
    "                random_roll(data[random.randint(0,99)],-50,50),\n",
    "                random_roll(data[random.randint(0,99)],50,-50)),axis = 0)]\n",
    "            for i in range(data.shape[0])]).reshape(100,128,128)\n",
    "    return data"
   ]
  },
  {
   "cell_type": "code",
   "execution_count": 6,
   "metadata": {},
   "outputs": [],
   "source": [
    "def RGBA(data):\n",
    "    data = np.interp(data, (data.min(), data.max()), (0, 1))\n",
    "    alpha = np.ones((data.shape[0],128,128))\n",
    "    return np.stack((data,data,data,alpha),axis=-1)"
   ]
  },
  {
   "cell_type": "code",
   "execution_count": 7,
   "metadata": {},
   "outputs": [],
   "source": [
    "def random_roll(data, x_shift, y_shift):\n",
    "    return np.roll(np.roll(data, x_shift, axis = 0), y_shift, axis = 1)"
   ]
  },
  {
   "cell_type": "code",
   "execution_count": 8,
   "metadata": {},
   "outputs": [],
   "source": [
    "def motion(data,background):\n",
    "    data = np.interp(data, (data.min(), data.max()), (0, 1))\n",
    "    background = RGBA(background)\n",
    "    return np.array([[np.max((background[back,:,:,:],data[D,:,:,:]),axis=0) \n",
    "                      for back in range(background.shape[0])] \n",
    "                     for D in range(data.shape[0])])\n",
    "            "
   ]
  },
  {
   "cell_type": "code",
   "execution_count": 9,
   "metadata": {},
   "outputs": [
    {
     "data": {
      "text/plain": [
       "(100, 1, 128, 128, 4)"
      ]
     },
     "execution_count": 9,
     "metadata": {},
     "output_type": "execute_result"
    }
   ],
   "source": [
    "z, env = MotionCloudNoise(sf_0=args.sf_0, B_sf=args.B_sf, alpha=.0, N_pic=128, seed=42, motion = True)\n",
    "data = motion(RGBA(add(data)),np.moveaxis(z,(0,1,2),(2,1,0)))\n",
    "data.shape"
   ]
  },
  {
   "cell_type": "code",
   "execution_count": 10,
   "metadata": {},
   "outputs": [
    {
     "ename": "KeyboardInterrupt",
     "evalue": "",
     "output_type": "error",
     "traceback": [
      "\u001b[0;31m---------------------------------------------------------------------------\u001b[0m",
      "\u001b[0;31mKeyboardInterrupt\u001b[0m                         Traceback (most recent call last)",
      "\u001b[0;32m<ipython-input-10-7a97c7b586ef>\u001b[0m in \u001b[0;36m<module>\u001b[0;34m\u001b[0m\n\u001b[1;32m     23\u001b[0m                 \u001b[0mmovie_clip\u001b[0m \u001b[0;34m=\u001b[0m \u001b[0mvisual\u001b[0m\u001b[0;34m.\u001b[0m\u001b[0mImageStim\u001b[0m\u001b[0;34m(\u001b[0m\u001b[0mwin\u001b[0m\u001b[0;34m,\u001b[0m \u001b[0mmov\u001b[0m\u001b[0;34m[\u001b[0m\u001b[0mii\u001b[0m\u001b[0;34m]\u001b[0m\u001b[0;34m,\u001b[0m \u001b[0mcolorSpace\u001b[0m \u001b[0;34m=\u001b[0m \u001b[0;34m\"rgb\"\u001b[0m\u001b[0;34m,\u001b[0m \u001b[0mcontrast\u001b[0m \u001b[0;34m=\u001b[0m \u001b[0;36m1\u001b[0m\u001b[0;34m,\u001b[0m \u001b[0msize\u001b[0m \u001b[0;34m=\u001b[0m \u001b[0;36m2\u001b[0m\u001b[0;34m,\u001b[0m \u001b[0mflipVert\u001b[0m\u001b[0;34m=\u001b[0m\u001b[0;32mTrue\u001b[0m\u001b[0;34m)\u001b[0m\u001b[0;34m\u001b[0m\u001b[0;34m\u001b[0m\u001b[0m\n\u001b[1;32m     24\u001b[0m                 \u001b[0mmovie_clip\u001b[0m\u001b[0;34m.\u001b[0m\u001b[0mdraw\u001b[0m\u001b[0;34m(\u001b[0m\u001b[0;34m)\u001b[0m\u001b[0;34m\u001b[0m\u001b[0;34m\u001b[0m\u001b[0m\n\u001b[0;32m---> 25\u001b[0;31m                 \u001b[0mwin\u001b[0m\u001b[0;34m.\u001b[0m\u001b[0mflip\u001b[0m\u001b[0;34m(\u001b[0m\u001b[0;34m)\u001b[0m\u001b[0;34m\u001b[0m\u001b[0;34m\u001b[0m\u001b[0m\n\u001b[0m",
      "\u001b[0;32m~/anaconda3/lib/python3.7/site-packages/psychopy/visual/window.py\u001b[0m in \u001b[0;36mflip\u001b[0;34m(self, clearBuffer)\u001b[0m\n\u001b[1;32m   1135\u001b[0m                 \u001b[0mGL\u001b[0m\u001b[0;34m.\u001b[0m\u001b[0mglVertex2i\u001b[0m\u001b[0;34m(\u001b[0m\u001b[0;36m10\u001b[0m\u001b[0;34m,\u001b[0m \u001b[0;36m10\u001b[0m\u001b[0;34m)\u001b[0m\u001b[0;34m\u001b[0m\u001b[0;34m\u001b[0m\u001b[0m\n\u001b[1;32m   1136\u001b[0m             \u001b[0mGL\u001b[0m\u001b[0;34m.\u001b[0m\u001b[0mglEnd\u001b[0m\u001b[0;34m(\u001b[0m\u001b[0;34m)\u001b[0m\u001b[0;34m\u001b[0m\u001b[0;34m\u001b[0m\u001b[0m\n\u001b[0;32m-> 1137\u001b[0;31m             \u001b[0mGL\u001b[0m\u001b[0;34m.\u001b[0m\u001b[0mglFinish\u001b[0m\u001b[0;34m(\u001b[0m\u001b[0;34m)\u001b[0m\u001b[0;34m\u001b[0m\u001b[0;34m\u001b[0m\u001b[0m\n\u001b[0m\u001b[1;32m   1138\u001b[0m \u001b[0;34m\u001b[0m\u001b[0m\n\u001b[1;32m   1139\u001b[0m         \u001b[0;31m# get timestamp\u001b[0m\u001b[0;34m\u001b[0m\u001b[0;34m\u001b[0m\u001b[0;34m\u001b[0m\u001b[0m\n",
      "\u001b[0;32m~/anaconda3/lib/python3.7/site-packages/pyglet/gl/lib.py\u001b[0m in \u001b[0;36merrcheck\u001b[0;34m(result, func, arguments)\u001b[0m\n\u001b[1;32m     85\u001b[0m \u001b[0;34m\u001b[0m\u001b[0m\n\u001b[1;32m     86\u001b[0m \u001b[0;34m\u001b[0m\u001b[0m\n\u001b[0;32m---> 87\u001b[0;31m \u001b[0;32mdef\u001b[0m \u001b[0merrcheck\u001b[0m\u001b[0;34m(\u001b[0m\u001b[0mresult\u001b[0m\u001b[0;34m,\u001b[0m \u001b[0mfunc\u001b[0m\u001b[0;34m,\u001b[0m \u001b[0marguments\u001b[0m\u001b[0;34m)\u001b[0m\u001b[0;34m:\u001b[0m\u001b[0;34m\u001b[0m\u001b[0;34m\u001b[0m\u001b[0m\n\u001b[0m\u001b[1;32m     88\u001b[0m     \u001b[0;32mif\u001b[0m \u001b[0m_debug_gl_trace\u001b[0m\u001b[0;34m:\u001b[0m\u001b[0;34m\u001b[0m\u001b[0;34m\u001b[0m\u001b[0m\n\u001b[1;32m     89\u001b[0m         \u001b[0;32mtry\u001b[0m\u001b[0;34m:\u001b[0m\u001b[0;34m\u001b[0m\u001b[0;34m\u001b[0m\u001b[0m\n",
      "\u001b[0;31mKeyboardInterrupt\u001b[0m: "
     ]
    }
   ],
   "source": [
    "instructions = \"\"\"\n",
    "At each trial you see a series of textured images, report if you \n",
    "spot a specific digit by pressing the space bar.\n",
    "\n",
    "Press the space bar to begin the experiment.\n",
    "\n",
    "\"\"\"\n",
    "\n",
    "win = visual.Window(winType = 'pyglet', size =(800,800), colorSpace = \"rgb\")\n",
    "\n",
    "message = visual.TextStim(win, text= instructions)\n",
    "message.autoDraw = True  # Automatically draw every frame\n",
    "win.flip()\n",
    "core.wait(5.0)\n",
    "message.text = ''  # Change properties of existing stim\n",
    "win.flip()\n",
    "core.wait(0.0)\n",
    "\n",
    "while True:\n",
    "    for i in range(data.shape[0]-1):\n",
    "            mov = data[i]\n",
    "            for ii in range(mov.shape[0]):\n",
    "                movie_clip = visual.ImageStim(win, mov[ii], colorSpace = \"rgb\", contrast = 1, size = 2, flipVert=True)\n",
    "                movie_clip.draw()\n",
    "                win.flip()"
   ]
  },
  {
   "cell_type": "code",
   "execution_count": null,
   "metadata": {},
   "outputs": [],
   "source": []
  },
  {
   "cell_type": "code",
   "execution_count": 11,
   "metadata": {},
   "outputs": [],
   "source": [
    "def overlay(data):\n",
    "    overlay_data = np.empty((128,128))\n",
    "    for i in range(len(data)-1):\n",
    "        random_number = random.randint(0,9)\n",
    "        if random_number == 0:\n",
    "            overlay_data = np.vstack((overlay_data,random_roll(data)))\n",
    "        elif random_number == 1:\n",
    "            number = np.max((random_roll(data),random_roll(data)), axis=0)\n",
    "            overlay_data = np.vstack((overlay_data,number))\n",
    "        elif random_number == 2:\n",
    "            number = np.max((random_roll(data),random_roll(data),random_roll(data)), axis=0)\n",
    "            overlay_data = np.vstack((overlay_data,number))\n",
    "        elif random_number == 3:\n",
    "            number = np.max((random_roll(data),random_roll(data),random_roll(data),random_roll(data)), axis=0)\n",
    "            overlay_data = np.vstack((overlay_data,number))\n",
    "        elif random_number == 4:\n",
    "            number = np.max((random_roll(data),random_roll(data),random_roll(data),random_roll(data),\n",
    "                            random_roll(data)), axis=0)\n",
    "            overlay_data = np.vstack((overlay_data,number))\n",
    "        elif random_number == 5:\n",
    "            number = np.max((random_roll(data),random_roll(data),random_roll(data),random_roll(data),\n",
    "                            random_roll(data),random_roll(data)), axis=0)\n",
    "            overlay_data = np.vstack((overlay_data,number))\n",
    "        elif random_number == 6:\n",
    "            number = np.max((random_roll(data),random_roll(data),random_roll(data),random_roll(data),\n",
    "                            random_roll(data),random_roll(data),random_roll(data)), axis=0)\n",
    "            overlay_data = np.vstack((overlay_data,number))\n",
    "        elif random_number == 7:\n",
    "            number = np.max((random_roll(data),random_roll(data),random_roll(data),random_roll(data),\n",
    "                            random_roll(data),random_roll(data),random_roll(data),random_roll(data)), axis=0)\n",
    "            overlay_data = np.vstack((overlay_data,number))\n",
    "        elif random_number == 8:\n",
    "            number = np.max((random_roll(data),random_roll(data),random_roll(data),random_roll(data),\n",
    "                            random_roll(data),random_roll(data),random_roll(data),random_roll(data),\n",
    "                            random_roll(data)), axis=0)\n",
    "            overlay_data = np.vstack((overlay_data,number))\n",
    "        elif random_number == 9:\n",
    "            number = np.max((random_roll(data),random_roll(data),random_roll(data),random_roll(data),\n",
    "                            random_roll(data),random_roll(data),random_roll(data),random_roll(data),\n",
    "                            random_roll(data),random_roll(data)), axis=0)\n",
    "            overlay_data = np.vstack((overlay_data,number))\n",
    "    overlay_data = overlay_data.reshape(100,128,128)\n",
    "    return overlay_data"
   ]
  },
  {
   "cell_type": "code",
   "execution_count": 13,
   "metadata": {},
   "outputs": [],
   "source": [
    "def combine(data,background):\n",
    "    combine_MNIST = np.empty((128,128))\n",
    "    ran_gen = random.randint(0,99)\n",
    "    MNIST = data[ran_gen]\n",
    "    MNIST = np.interp(MNIST, (MNIST.min(), MNIST.max()), (-1, 1))\n",
    "    for i in range(len(background)-1):\n",
    "        back = np.interp(background[i], (background[i].min(), background[i].max()), (-1, +1))\n",
    "        fused = np.max((back,MNIST), axis=0)\n",
    "        combine_MNIST = np.vstack((combine_MNIST,fused))\n",
    "    combine_MNIST = combine_MNIST.reshape(60,128,128)\n",
    "    return combine_MNIST"
   ]
  },
  {
   "cell_type": "code",
   "execution_count": 14,
   "metadata": {},
   "outputs": [],
   "source": [
    "def multiple(data,moving_background):\n",
    "    big = combine(data,moving_background)\n",
    "    for i in range(0,99,1):\n",
    "        temp = combine(data,moving_background)\n",
    "        big = np.vstack((big,temp))\n",
    "    return big.reshape(6000,128,128)"
   ]
  },
  {
   "cell_type": "code",
   "execution_count": 15,
   "metadata": {},
   "outputs": [],
   "source": [
    "background_int = background\n",
    "expanded_MNIST1 = expand_MNIST(data)\n",
    "expanded_MNIST2 = overlay(expanded_MNIST1)\n",
    "test = multiple(expanded_MNIST2,background_int)"
   ]
  }
 ],
 "metadata": {
  "kernelspec": {
   "display_name": "Python 3",
   "language": "python",
   "name": "python3"
  },
  "language_info": {
   "codemirror_mode": {
    "name": "ipython",
    "version": 3
   },
   "file_extension": ".py",
   "mimetype": "text/x-python",
   "name": "python",
   "nbconvert_exporter": "python",
   "pygments_lexer": "ipython3",
   "version": "3.7.3"
  }
 },
 "nbformat": 4,
 "nbformat_minor": 2
}
