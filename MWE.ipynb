{
 "cells": [
  {
   "cell_type": "code",
   "execution_count": 1,
   "metadata": {},
   "outputs": [
    {
     "name": "stdout",
     "output_type": "stream",
     "text": [
      "pygame 2.0.1 (SDL 2.0.14, Python 3.7.3)\n",
      "Hello from the pygame community. https://www.pygame.org/contribute.html\n"
     ]
    }
   ],
   "source": [
    "import numpy as np\n",
    "import matplotlib.pyplot as plt\n",
    "import os\n",
    "import imageio\n",
    "import random\n",
    "from psychopy import visual, core, event, gui, data\n",
    "import MotionClouds as MC\n",
    "import pygame\n",
    "from PIL import Image"
   ]
  },
  {
   "cell_type": "code",
   "execution_count": 2,
   "metadata": {},
   "outputs": [
    {
     "name": "stdout",
     "output_type": "stream",
     "text": [
      "/Users/typhaine/Documents/Doc Gorilla/WhereIsMyMNIST/notebooks\n"
     ]
    }
   ],
   "source": [
    "exp_info = {'exp_name': \"Spot the digit!\", 'participant':'laurent'}\n",
    "cache_folder = os.path.join('/tmp','cache')\n",
    "data_folder = os.path.join('/tmp','json')\n",
    "data_folder\n",
    "%mkdir -p {data_folder} {cache_folder}\n",
    "%cd /Users/typhaine/Documents/Doc Gorilla/WhereIsMyMNIST/notebooks\n",
    "    # Change"
   ]
  },
  {
   "cell_type": "code",
   "execution_count": 3,
   "metadata": {},
   "outputs": [],
   "source": [
    "import torch\n",
    "import torchvision\n",
    "import torchvision.datasets as datasets\n",
    "import matplotlib.pyplot as plt"
   ]
  },
  {
   "cell_type": "code",
   "execution_count": 4,
   "metadata": {},
   "outputs": [],
   "source": [
    "transform = torchvision.transforms.Compose([torchvision.transforms.ToTensor(),\n",
    "                                            torchvision.transforms.Normalize((0.1307,), (0.3081,))])\n",
    "dataset = torch.utils.data.DataLoader(datasets.MNIST('../data', train=True, transform=transform),\n",
    "                                   batch_size=64, shuffle=True)\n",
    "\n",
    "examples = enumerate(dataset)\n",
    "batch_idx, (data, targets) = next(examples)"
   ]
  },
  {
   "cell_type": "code",
   "execution_count": 5,
   "metadata": {},
   "outputs": [],
   "source": [
    "data_map = np.array(data)\n",
    "check = -0.2421296\n",
    "for a in range(len(data_map)):\n",
    "    change = data_map[a, 0, :, :]\n",
    "    for b in range(len(change)):\n",
    "        value = change[b]\n",
    "        for c in range(len(value)):\n",
    "            if value[c] <= check and (c % 2) == 0:\n",
    "                value[c] = random.random()*-1\n",
    "            elif value[c] <= check:\n",
    "                value[c] = random.random()*1"
   ]
  },
  {
   "cell_type": "code",
   "execution_count": 6,
   "metadata": {},
   "outputs": [
    {
     "ename": "KeyboardInterrupt",
     "evalue": "",
     "output_type": "error",
     "traceback": [
      "\u001b[0;31m---------------------------------------------------------------------------\u001b[0m",
      "\u001b[0;31mKeyboardInterrupt\u001b[0m                         Traceback (most recent call last)",
      "\u001b[0;32m<ipython-input-6-35377d968ae4>\u001b[0m in \u001b[0;36m<module>\u001b[0;34m\u001b[0m\n\u001b[1;32m     26\u001b[0m     \u001b[0mmov\u001b[0m\u001b[0;34m.\u001b[0m\u001b[0mplay\u001b[0m\u001b[0;34m(\u001b[0m\u001b[0;34m)\u001b[0m\u001b[0;34m\u001b[0m\u001b[0;34m\u001b[0m\u001b[0m\n\u001b[1;32m     27\u001b[0m     \u001b[0mmov\u001b[0m\u001b[0;34m.\u001b[0m\u001b[0mdraw\u001b[0m\u001b[0;34m(\u001b[0m\u001b[0;34m)\u001b[0m\u001b[0;34m\u001b[0m\u001b[0;34m\u001b[0m\u001b[0m\n\u001b[0;32m---> 28\u001b[0;31m     \u001b[0mwin\u001b[0m\u001b[0;34m.\u001b[0m\u001b[0mflip\u001b[0m\u001b[0;34m(\u001b[0m\u001b[0;34m)\u001b[0m\u001b[0;34m\u001b[0m\u001b[0;34m\u001b[0m\u001b[0m\n\u001b[0m\u001b[1;32m     29\u001b[0m     \u001b[0;32mwhile\u001b[0m \u001b[0mtimer\u001b[0m\u001b[0;34m.\u001b[0m\u001b[0mgetTime\u001b[0m\u001b[0;34m(\u001b[0m\u001b[0;34m)\u001b[0m\u001b[0;34m>\u001b[0m\u001b[0;36m1\u001b[0m\u001b[0;34m:\u001b[0m\u001b[0;34m\u001b[0m\u001b[0;34m\u001b[0m\u001b[0m\n\u001b[1;32m     30\u001b[0m         \u001b[0;32mfor\u001b[0m \u001b[0mi\u001b[0m \u001b[0;32min\u001b[0m \u001b[0mrange\u001b[0m\u001b[0;34m(\u001b[0m\u001b[0;36m1\u001b[0m\u001b[0;34m)\u001b[0m\u001b[0;34m:\u001b[0m\u001b[0;34m\u001b[0m\u001b[0;34m\u001b[0m\u001b[0m\n",
      "\u001b[0;32m~/anaconda3/lib/python3.7/site-packages/psychopy/visual/window.py\u001b[0m in \u001b[0;36mflip\u001b[0;34m(self, clearBuffer)\u001b[0m\n\u001b[1;32m   1008\u001b[0m         \u001b[0;32mif\u001b[0m \u001b[0mself\u001b[0m\u001b[0;34m.\u001b[0m\u001b[0m_toDraw\u001b[0m\u001b[0;34m:\u001b[0m\u001b[0;34m\u001b[0m\u001b[0;34m\u001b[0m\u001b[0m\n\u001b[1;32m   1009\u001b[0m             \u001b[0;32mfor\u001b[0m \u001b[0mthisStim\u001b[0m \u001b[0;32min\u001b[0m \u001b[0mself\u001b[0m\u001b[0;34m.\u001b[0m\u001b[0m_toDraw\u001b[0m\u001b[0;34m:\u001b[0m\u001b[0;34m\u001b[0m\u001b[0;34m\u001b[0m\u001b[0m\n\u001b[0;32m-> 1010\u001b[0;31m                 \u001b[0mthisStim\u001b[0m\u001b[0;34m.\u001b[0m\u001b[0mdraw\u001b[0m\u001b[0;34m(\u001b[0m\u001b[0;34m)\u001b[0m\u001b[0;34m\u001b[0m\u001b[0;34m\u001b[0m\u001b[0m\n\u001b[0m\u001b[1;32m   1011\u001b[0m         \u001b[0;32melse\u001b[0m\u001b[0;34m:\u001b[0m\u001b[0;34m\u001b[0m\u001b[0;34m\u001b[0m\u001b[0m\n\u001b[1;32m   1012\u001b[0m             \u001b[0mself\u001b[0m\u001b[0;34m.\u001b[0m\u001b[0mbackend\u001b[0m\u001b[0;34m.\u001b[0m\u001b[0msetCurrent\u001b[0m\u001b[0;34m(\u001b[0m\u001b[0;34m)\u001b[0m\u001b[0;34m\u001b[0m\u001b[0;34m\u001b[0m\u001b[0m\n",
      "\u001b[0;32m~/anaconda3/lib/python3.7/site-packages/psychopy/visual/image.py\u001b[0m in \u001b[0;36mdraw\u001b[0;34m(self, win)\u001b[0m\n\u001b[1;32m    256\u001b[0m         \u001b[0mwin\u001b[0m\u001b[0;34m.\u001b[0m\u001b[0msetScale\u001b[0m\u001b[0;34m(\u001b[0m\u001b[0;34m'pix'\u001b[0m\u001b[0;34m)\u001b[0m\u001b[0;34m\u001b[0m\u001b[0;34m\u001b[0m\u001b[0m\n\u001b[1;32m    257\u001b[0m \u001b[0;34m\u001b[0m\u001b[0m\n\u001b[0;32m--> 258\u001b[0;31m         desiredRGB = self._getDesiredRGB(self.rgb, self.colorSpace,\n\u001b[0m\u001b[1;32m    259\u001b[0m                                          self.contrast)\n\u001b[1;32m    260\u001b[0m         GL.glColor4f(desiredRGB[0], desiredRGB[1], desiredRGB[2],\n",
      "\u001b[0;31mKeyboardInterrupt\u001b[0m: "
     ]
    }
   ],
   "source": [
    "instructions = \"\"\"\n",
    "At each trial you see a series of textured images, report if you \n",
    "spot a specific digit by pressing the space bar.\n",
    "\n",
    "Press the space bar to begin the experiment.\n",
    "\n",
    "\"\"\"\n",
    "\n",
    "timer = core.Clock()\n",
    "timer.add(1)\n",
    "\n",
    "win = visual.Window((400,400))\n",
    "\n",
    "message = visual.TextStim(win, text= instructions)\n",
    "message.autoDraw = True  \n",
    "win.flip()\n",
    "core.wait(5.0)\n",
    "message.text = '' \n",
    "win.flip()\n",
    "core.wait(0.0)\n",
    "mov = visual.MovieStim3(win, '/Users/typhaine/Documents/Doc Gorilla/Andrew.mp4', flipVert=False, size = [400,400], loop = True)\n",
    "    # Change address\n",
    "mov.autoDraw = True\n",
    "\n",
    "while True:\n",
    "    mov.play()\n",
    "    mov.draw()\n",
    "    win.flip()\n",
    "    while timer.getTime()>1:\n",
    "        for i in range(1):\n",
    "            Image = data_map[random.randint(0, 63), 0, :, :]\n",
    "            x = visual.ImageStim(win, Image, size=0.25)\n",
    "            x.pos = (0.5, 0.5)\n",
    "            x.draw()\n",
    "            x.autoDraw = True\n",
    "            Image = data_map[random.randint(0, 63), 0, :, :]\n",
    "            x = visual.ImageStim(win, Image, size=0.25)\n",
    "            x.pos = (-0.5, -0.5)\n",
    "            x.draw()\n",
    "            x.autoDraw = True\n",
    "            Image = data_map[random.randint(0, 63), 0, :, :]\n",
    "            x = visual.ImageStim(win, Image, size=0.25)\n",
    "            x.pos = (0.5, -0.5)\n",
    "            x.draw()\n",
    "            x.autoDraw = True\n",
    "            Image = data_map[random.randint(0, 63), 0, :, :]\n",
    "            x = visual.ImageStim(win, Image, size=0.25)\n",
    "            x.pos = (-0.5, 0.5)\n",
    "            x.draw()\n",
    "            x.autoDraw = True\n",
    "            win.flip()\n",
    "            timer.reset()"
   ]
  },
  {
   "cell_type": "code",
   "execution_count": null,
   "metadata": {},
   "outputs": [],
   "source": []
  }
 ],
 "metadata": {
  "kernelspec": {
   "display_name": "Python 3",
   "language": "python",
   "name": "python3"
  },
  "language_info": {
   "codemirror_mode": {
    "name": "ipython",
    "version": 3
   },
   "file_extension": ".py",
   "mimetype": "text/x-python",
   "name": "python",
   "nbconvert_exporter": "python",
   "pygments_lexer": "ipython3",
   "version": "3.7.3"
  }
 },
 "nbformat": 4,
 "nbformat_minor": 2
}
